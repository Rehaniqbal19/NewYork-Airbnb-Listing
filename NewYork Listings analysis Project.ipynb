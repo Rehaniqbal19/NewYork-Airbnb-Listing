{
 "cells": [
  {
   "cell_type": "code",
   "execution_count": 2,
   "id": "c70f77ef-9eb3-4d31-b50c-965cb880334a",
   "metadata": {},
   "outputs": [],
   "source": [
    "import pandas as pd\n",
    "import numpy as np\n",
    "import matplotlib.pyplot as plt\n",
    "import seaborn as sns\n",
    "sns.set()"
   ]
  },
  {
   "cell_type": "code",
   "execution_count": 3,
   "id": "60c89b8f-4659-4c97-93b0-228dd9a50e10",
   "metadata": {},
   "outputs": [
    {
     "data": {
      "text/html": [
       "<div>\n",
       "<style scoped>\n",
       "    .dataframe tbody tr th:only-of-type {\n",
       "        vertical-align: middle;\n",
       "    }\n",
       "\n",
       "    .dataframe tbody tr th {\n",
       "        vertical-align: top;\n",
       "    }\n",
       "\n",
       "    .dataframe thead th {\n",
       "        text-align: right;\n",
       "    }\n",
       "</style>\n",
       "<table border=\"1\" class=\"dataframe\">\n",
       "  <thead>\n",
       "    <tr style=\"text-align: right;\">\n",
       "      <th></th>\n",
       "      <th>listing_id</th>\n",
       "      <th>name</th>\n",
       "      <th>host_id</th>\n",
       "      <th>host_since</th>\n",
       "      <th>host_location</th>\n",
       "      <th>host_response_time</th>\n",
       "      <th>host_response_rate</th>\n",
       "      <th>host_acceptance_rate</th>\n",
       "      <th>host_is_superhost</th>\n",
       "      <th>host_total_listings_count</th>\n",
       "      <th>...</th>\n",
       "      <th>minimum_nights</th>\n",
       "      <th>maximum_nights</th>\n",
       "      <th>review_scores_rating</th>\n",
       "      <th>review_scores_accuracy</th>\n",
       "      <th>review_scores_cleanliness</th>\n",
       "      <th>review_scores_checkin</th>\n",
       "      <th>review_scores_communication</th>\n",
       "      <th>review_scores_location</th>\n",
       "      <th>review_scores_value</th>\n",
       "      <th>instant_bookable</th>\n",
       "    </tr>\n",
       "  </thead>\n",
       "  <tbody>\n",
       "    <tr>\n",
       "      <th>0</th>\n",
       "      <td>281420</td>\n",
       "      <td>Beautiful Flat in le Village Montmartre, Paris</td>\n",
       "      <td>1466919</td>\n",
       "      <td>2011-12-03</td>\n",
       "      <td>Paris, Ile-de-France, France</td>\n",
       "      <td>NaN</td>\n",
       "      <td>NaN</td>\n",
       "      <td>NaN</td>\n",
       "      <td>f</td>\n",
       "      <td>1.0</td>\n",
       "      <td>...</td>\n",
       "      <td>2</td>\n",
       "      <td>1125</td>\n",
       "      <td>100.0</td>\n",
       "      <td>10.0</td>\n",
       "      <td>10.0</td>\n",
       "      <td>10.0</td>\n",
       "      <td>10.0</td>\n",
       "      <td>10.0</td>\n",
       "      <td>10.0</td>\n",
       "      <td>f</td>\n",
       "    </tr>\n",
       "    <tr>\n",
       "      <th>1</th>\n",
       "      <td>3705183</td>\n",
       "      <td>39 mÃÂ² Paris (Sacre CÃ",
       "âur)</td>\n",
       "      <td>10328771</td>\n",
       "      <td>2013-11-29</td>\n",
       "      <td>Paris, Ile-de-France, France</td>\n",
       "      <td>NaN</td>\n",
       "      <td>NaN</td>\n",
       "      <td>NaN</td>\n",
       "      <td>f</td>\n",
       "      <td>1.0</td>\n",
       "      <td>...</td>\n",
       "      <td>2</td>\n",
       "      <td>1125</td>\n",
       "      <td>100.0</td>\n",
       "      <td>10.0</td>\n",
       "      <td>10.0</td>\n",
       "      <td>10.0</td>\n",
       "      <td>10.0</td>\n",
       "      <td>10.0</td>\n",
       "      <td>10.0</td>\n",
       "      <td>f</td>\n",
       "    </tr>\n",
       "    <tr>\n",
       "      <th>2</th>\n",
       "      <td>4082273</td>\n",
       "      <td>Lovely apartment with Terrace, 60m2</td>\n",
       "      <td>19252768</td>\n",
       "      <td>2014-07-31</td>\n",
       "      <td>Paris, Ile-de-France, France</td>\n",
       "      <td>NaN</td>\n",
       "      <td>NaN</td>\n",
       "      <td>NaN</td>\n",
       "      <td>f</td>\n",
       "      <td>1.0</td>\n",
       "      <td>...</td>\n",
       "      <td>2</td>\n",
       "      <td>1125</td>\n",
       "      <td>100.0</td>\n",
       "      <td>10.0</td>\n",
       "      <td>10.0</td>\n",
       "      <td>10.0</td>\n",
       "      <td>10.0</td>\n",
       "      <td>10.0</td>\n",
       "      <td>10.0</td>\n",
       "      <td>f</td>\n",
       "    </tr>\n",
       "    <tr>\n",
       "      <th>3</th>\n",
       "      <td>4797344</td>\n",
       "      <td>Cosy studio (close to Eiffel tower)</td>\n",
       "      <td>10668311</td>\n",
       "      <td>2013-12-17</td>\n",
       "      <td>Paris, Ile-de-France, France</td>\n",
       "      <td>NaN</td>\n",
       "      <td>NaN</td>\n",
       "      <td>NaN</td>\n",
       "      <td>f</td>\n",
       "      <td>1.0</td>\n",
       "      <td>...</td>\n",
       "      <td>2</td>\n",
       "      <td>1125</td>\n",
       "      <td>100.0</td>\n",
       "      <td>10.0</td>\n",
       "      <td>10.0</td>\n",
       "      <td>10.0</td>\n",
       "      <td>10.0</td>\n",
       "      <td>10.0</td>\n",
       "      <td>10.0</td>\n",
       "      <td>f</td>\n",
       "    </tr>\n",
       "    <tr>\n",
       "      <th>4</th>\n",
       "      <td>4823489</td>\n",
       "      <td>Close to Eiffel Tower - Beautiful flat : 2 rooms</td>\n",
       "      <td>24837558</td>\n",
       "      <td>2014-12-14</td>\n",
       "      <td>Paris, Ile-de-France, France</td>\n",
       "      <td>NaN</td>\n",
       "      <td>NaN</td>\n",
       "      <td>NaN</td>\n",
       "      <td>f</td>\n",
       "      <td>1.0</td>\n",
       "      <td>...</td>\n",
       "      <td>2</td>\n",
       "      <td>1125</td>\n",
       "      <td>100.0</td>\n",
       "      <td>10.0</td>\n",
       "      <td>10.0</td>\n",
       "      <td>10.0</td>\n",
       "      <td>10.0</td>\n",
       "      <td>10.0</td>\n",
       "      <td>10.0</td>\n",
       "      <td>f</td>\n",
       "    </tr>\n",
       "  </tbody>\n",
       "</table>\n",
       "<p>5 rows × 33 columns</p>\n",
       "</div>"
      ],
      "text/plain": [
       "   listing_id                                              name   host_id  \\\n",
       "0      281420    Beautiful Flat in le Village Montmartre, Paris   1466919   \n",
       "1     3705183                   39 mÃÂ² Paris (Sacre CÃ\n",
       "âur)  10328771   \n",
       "2     4082273               Lovely apartment with Terrace, 60m2  19252768   \n",
       "3     4797344               Cosy studio (close to Eiffel tower)  10668311   \n",
       "4     4823489  Close to Eiffel Tower - Beautiful flat : 2 rooms  24837558   \n",
       "\n",
       "   host_since                 host_location host_response_time  \\\n",
       "0  2011-12-03  Paris, Ile-de-France, France                NaN   \n",
       "1  2013-11-29  Paris, Ile-de-France, France                NaN   \n",
       "2  2014-07-31  Paris, Ile-de-France, France                NaN   \n",
       "3  2013-12-17  Paris, Ile-de-France, France                NaN   \n",
       "4  2014-12-14  Paris, Ile-de-France, France                NaN   \n",
       "\n",
       "   host_response_rate  host_acceptance_rate host_is_superhost  \\\n",
       "0                 NaN                   NaN                 f   \n",
       "1                 NaN                   NaN                 f   \n",
       "2                 NaN                   NaN                 f   \n",
       "3                 NaN                   NaN                 f   \n",
       "4                 NaN                   NaN                 f   \n",
       "\n",
       "   host_total_listings_count  ... minimum_nights maximum_nights  \\\n",
       "0                        1.0  ...              2           1125   \n",
       "1                        1.0  ...              2           1125   \n",
       "2                        1.0  ...              2           1125   \n",
       "3                        1.0  ...              2           1125   \n",
       "4                        1.0  ...              2           1125   \n",
       "\n",
       "  review_scores_rating review_scores_accuracy review_scores_cleanliness  \\\n",
       "0                100.0                   10.0                      10.0   \n",
       "1                100.0                   10.0                      10.0   \n",
       "2                100.0                   10.0                      10.0   \n",
       "3                100.0                   10.0                      10.0   \n",
       "4                100.0                   10.0                      10.0   \n",
       "\n",
       "   review_scores_checkin  review_scores_communication review_scores_location  \\\n",
       "0                   10.0                         10.0                   10.0   \n",
       "1                   10.0                         10.0                   10.0   \n",
       "2                   10.0                         10.0                   10.0   \n",
       "3                   10.0                         10.0                   10.0   \n",
       "4                   10.0                         10.0                   10.0   \n",
       "\n",
       "  review_scores_value  instant_bookable  \n",
       "0                10.0                 f  \n",
       "1                10.0                 f  \n",
       "2                10.0                 f  \n",
       "3                10.0                 f  \n",
       "4                10.0                 f  \n",
       "\n",
       "[5 rows x 33 columns]"
      ]
     },
     "execution_count": 3,
     "metadata": {},
     "output_type": "execute_result"
    }
   ],
   "source": [
    "data = pd.read_csv('Listings.csv', delimiter = ',', low_memory=False, encoding=\"ISO-8859-1\")\n",
    "df_newyork = data.copy()\n",
    "df_newyork.head()"
   ]
  },
  {
   "cell_type": "code",
   "execution_count": 4,
   "id": "ee978e20-d583-402c-b739-5c06a5660ca5",
   "metadata": {},
   "outputs": [
    {
     "name": "stdout",
     "output_type": "stream",
     "text": [
      "<class 'pandas.core.frame.DataFrame'>\n",
      "RangeIndex: 279712 entries, 0 to 279711\n",
      "Data columns (total 33 columns):\n",
      " #   Column                       Non-Null Count   Dtype  \n",
      "---  ------                       --------------   -----  \n",
      " 0   listing_id                   279712 non-null  int64  \n",
      " 1   name                         279537 non-null  object \n",
      " 2   host_id                      279712 non-null  int64  \n",
      " 3   host_since                   279547 non-null  object \n",
      " 4   host_location                278872 non-null  object \n",
      " 5   host_response_time           150930 non-null  object \n",
      " 6   host_response_rate           150930 non-null  float64\n",
      " 7   host_acceptance_rate         166625 non-null  float64\n",
      " 8   host_is_superhost            279547 non-null  object \n",
      " 9   host_total_listings_count    279547 non-null  float64\n",
      " 10  host_has_profile_pic         279547 non-null  object \n",
      " 11  host_identity_verified       279547 non-null  object \n",
      " 12  neighbourhood                279712 non-null  object \n",
      " 13  district                     37012 non-null   object \n",
      " 14  city                         279712 non-null  object \n",
      " 15  latitude                     279712 non-null  float64\n",
      " 16  longitude                    279712 non-null  float64\n",
      " 17  property_type                279712 non-null  object \n",
      " 18  room_type                    279712 non-null  object \n",
      " 19  accommodates                 279712 non-null  int64  \n",
      " 20  bedrooms                     250277 non-null  float64\n",
      " 21  amenities                    279712 non-null  object \n",
      " 22  price                        279712 non-null  int64  \n",
      " 23  minimum_nights               279712 non-null  int64  \n",
      " 24  maximum_nights               279712 non-null  int64  \n",
      " 25  review_scores_rating         188307 non-null  float64\n",
      " 26  review_scores_accuracy       187999 non-null  float64\n",
      " 27  review_scores_cleanliness    188047 non-null  float64\n",
      " 28  review_scores_checkin        187941 non-null  float64\n",
      " 29  review_scores_communication  188025 non-null  float64\n",
      " 30  review_scores_location       187937 non-null  float64\n",
      " 31  review_scores_value          187927 non-null  float64\n",
      " 32  instant_bookable             279712 non-null  object \n",
      "dtypes: float64(13), int64(6), object(14)\n",
      "memory usage: 70.4+ MB\n"
     ]
    }
   ],
   "source": [
    "df_newyork.info()"
   ]
  },
  {
   "cell_type": "code",
   "execution_count": 162,
   "id": "f0c945c4-ce07-4af4-bd9d-fa9fb5b074a3",
   "metadata": {},
   "outputs": [
    {
     "data": {
      "text/plain": [
       "Index(['listing_id', 'name', 'host_id', 'host_since', 'host_location',\n",
       "       'host_response_time', 'host_response_rate', 'host_acceptance_rate',\n",
       "       'host_is_superhost', 'host_total_listings_count',\n",
       "       'host_has_profile_pic', 'host_identity_verified', 'neighbourhood',\n",
       "       'district', 'city', 'latitude', 'longitude', 'property_type',\n",
       "       'room_type', 'accommodates', 'bedrooms', 'amenities', 'price',\n",
       "       'minimum_nights', 'maximum_nights', 'review_scores_rating',\n",
       "       'review_scores_accuracy', 'review_scores_cleanliness',\n",
       "       'review_scores_checkin', 'review_scores_communication',\n",
       "       'review_scores_location', 'review_scores_value', 'instant_bookable'],\n",
       "      dtype='object')"
      ]
     },
     "execution_count": 162,
     "metadata": {},
     "output_type": "execute_result"
    }
   ],
   "source": [
    "filtered_df = df_newyork[df_newyork['city'] == 'New York']\n",
    "filtered_df.columns"
   ]
  },
  {
   "cell_type": "code",
   "execution_count": 163,
   "id": "cffc1c6f-918f-4480-a053-f94da9b0c350",
   "metadata": {},
   "outputs": [
    {
     "data": {
      "text/html": [
       "<div>\n",
       "<style scoped>\n",
       "    .dataframe tbody tr th:only-of-type {\n",
       "        vertical-align: middle;\n",
       "    }\n",
       "\n",
       "    .dataframe tbody tr th {\n",
       "        vertical-align: top;\n",
       "    }\n",
       "\n",
       "    .dataframe thead th {\n",
       "        text-align: right;\n",
       "    }\n",
       "</style>\n",
       "<table border=\"1\" class=\"dataframe\">\n",
       "  <thead>\n",
       "    <tr style=\"text-align: right;\">\n",
       "      <th></th>\n",
       "      <th>host_since</th>\n",
       "      <th>neighbourhood</th>\n",
       "      <th>city</th>\n",
       "      <th>accommodates</th>\n",
       "      <th>price</th>\n",
       "    </tr>\n",
       "  </thead>\n",
       "  <tbody>\n",
       "    <tr>\n",
       "      <th>9220</th>\n",
       "      <td>2013-10-23</td>\n",
       "      <td>Lower East Side</td>\n",
       "      <td>New York</td>\n",
       "      <td>3</td>\n",
       "      <td>110</td>\n",
       "    </tr>\n",
       "    <tr>\n",
       "      <th>9221</th>\n",
       "      <td>2013-10-02</td>\n",
       "      <td>Harlem</td>\n",
       "      <td>New York</td>\n",
       "      <td>2</td>\n",
       "      <td>99</td>\n",
       "    </tr>\n",
       "    <tr>\n",
       "      <th>9222</th>\n",
       "      <td>2014-09-27</td>\n",
       "      <td>Crown Heights</td>\n",
       "      <td>New York</td>\n",
       "      <td>6</td>\n",
       "      <td>220</td>\n",
       "    </tr>\n",
       "    <tr>\n",
       "      <th>9223</th>\n",
       "      <td>2014-10-18</td>\n",
       "      <td>Nolita</td>\n",
       "      <td>New York</td>\n",
       "      <td>2</td>\n",
       "      <td>215</td>\n",
       "    </tr>\n",
       "    <tr>\n",
       "      <th>9224</th>\n",
       "      <td>2012-10-14</td>\n",
       "      <td>Midtown</td>\n",
       "      <td>New York</td>\n",
       "      <td>3</td>\n",
       "      <td>300</td>\n",
       "    </tr>\n",
       "    <tr>\n",
       "      <th>...</th>\n",
       "      <td>...</td>\n",
       "      <td>...</td>\n",
       "      <td>...</td>\n",
       "      <td>...</td>\n",
       "      <td>...</td>\n",
       "    </tr>\n",
       "    <tr>\n",
       "      <th>268684</th>\n",
       "      <td>2014-06-29</td>\n",
       "      <td>Williamsburg</td>\n",
       "      <td>New York</td>\n",
       "      <td>5</td>\n",
       "      <td>115</td>\n",
       "    </tr>\n",
       "    <tr>\n",
       "      <th>268685</th>\n",
       "      <td>2014-06-02</td>\n",
       "      <td>Williamsburg</td>\n",
       "      <td>New York</td>\n",
       "      <td>2</td>\n",
       "      <td>140</td>\n",
       "    </tr>\n",
       "    <tr>\n",
       "      <th>268686</th>\n",
       "      <td>2016-01-01</td>\n",
       "      <td>West Village</td>\n",
       "      <td>New York</td>\n",
       "      <td>2</td>\n",
       "      <td>100</td>\n",
       "    </tr>\n",
       "    <tr>\n",
       "      <th>268687</th>\n",
       "      <td>2021-01-02</td>\n",
       "      <td>Bushwick</td>\n",
       "      <td>New York</td>\n",
       "      <td>5</td>\n",
       "      <td>188</td>\n",
       "    </tr>\n",
       "    <tr>\n",
       "      <th>273167</th>\n",
       "      <td>2012-01-12</td>\n",
       "      <td>Williamsburg</td>\n",
       "      <td>New York</td>\n",
       "      <td>2</td>\n",
       "      <td>120</td>\n",
       "    </tr>\n",
       "  </tbody>\n",
       "</table>\n",
       "<p>37012 rows × 5 columns</p>\n",
       "</div>"
      ],
      "text/plain": [
       "        host_since    neighbourhood      city  accommodates  price\n",
       "9220    2013-10-23  Lower East Side  New York             3    110\n",
       "9221    2013-10-02           Harlem  New York             2     99\n",
       "9222    2014-09-27    Crown Heights  New York             6    220\n",
       "9223    2014-10-18           Nolita  New York             2    215\n",
       "9224    2012-10-14          Midtown  New York             3    300\n",
       "...            ...              ...       ...           ...    ...\n",
       "268684  2014-06-29     Williamsburg  New York             5    115\n",
       "268685  2014-06-02     Williamsburg  New York             2    140\n",
       "268686  2016-01-01     West Village  New York             2    100\n",
       "268687  2021-01-02         Bushwick  New York             5    188\n",
       "273167  2012-01-12     Williamsburg  New York             2    120\n",
       "\n",
       "[37012 rows x 5 columns]"
      ]
     },
     "execution_count": 163,
     "metadata": {},
     "output_type": "execute_result"
    }
   ],
   "source": [
    "filtered_df = filtered_df[['host_since', 'neighbourhood', 'city', 'accommodates', 'price']]\n",
    "filtered_df"
   ]
  },
  {
   "cell_type": "code",
   "execution_count": 164,
   "id": "86ad5000-06c9-48ae-87ff-1c8bf1dc4e58",
   "metadata": {},
   "outputs": [
    {
     "data": {
      "text/plain": [
       "9220      2013-10-23\n",
       "9221      2013-10-02\n",
       "9222      2014-09-27\n",
       "9223      2014-10-18\n",
       "9224      2012-10-14\n",
       "             ...    \n",
       "268684    2014-06-29\n",
       "268685    2014-06-02\n",
       "268686    2016-01-01\n",
       "268687    2021-01-02\n",
       "273167    2012-01-12\n",
       "Name: host_since, Length: 37012, dtype: object"
      ]
     },
     "execution_count": 164,
     "metadata": {},
     "output_type": "execute_result"
    }
   ],
   "source": [
    "filtered_df['host_since'] "
   ]
  },
  {
   "cell_type": "code",
   "execution_count": 165,
   "id": "11e2b427-5398-47bd-add6-bcc1f8cf856a",
   "metadata": {},
   "outputs": [
    {
     "data": {
      "text/plain": [
       "9220     2013-10-23\n",
       "9221     2013-10-02\n",
       "9222     2014-09-27\n",
       "9223     2014-10-18\n",
       "9224     2012-10-14\n",
       "            ...    \n",
       "268684   2014-06-29\n",
       "268685   2014-06-02\n",
       "268686   2016-01-01\n",
       "268687   2021-01-02\n",
       "273167   2012-01-12\n",
       "Name: host_since, Length: 37012, dtype: datetime64[ns]"
      ]
     },
     "execution_count": 165,
     "metadata": {},
     "output_type": "execute_result"
    }
   ],
   "source": [
    "filtered_df['host_since'] = pd.to_datetime(filtered_df['host_since'], format = '%Y-%m-%d')\n",
    "filtered_df['host_since']"
   ]
  },
  {
   "cell_type": "code",
   "execution_count": 166,
   "id": "9c8414cd-3667-47df-8e7a-8d78fdbf1a65",
   "metadata": {},
   "outputs": [
    {
     "data": {
      "text/plain": [
       "(37012, 5)"
      ]
     },
     "execution_count": 166,
     "metadata": {},
     "output_type": "execute_result"
    }
   ],
   "source": [
    "filtered_df.shape"
   ]
  },
  {
   "cell_type": "code",
   "execution_count": 167,
   "id": "c27958e7-9e23-45f0-88c3-48bbe4750c1e",
   "metadata": {},
   "outputs": [
    {
     "data": {
      "text/html": [
       "<div>\n",
       "<style scoped>\n",
       "    .dataframe tbody tr th:only-of-type {\n",
       "        vertical-align: middle;\n",
       "    }\n",
       "\n",
       "    .dataframe tbody tr th {\n",
       "        vertical-align: top;\n",
       "    }\n",
       "\n",
       "    .dataframe thead th {\n",
       "        text-align: right;\n",
       "    }\n",
       "</style>\n",
       "<table border=\"1\" class=\"dataframe\">\n",
       "  <thead>\n",
       "    <tr style=\"text-align: right;\">\n",
       "      <th></th>\n",
       "      <th>host_since</th>\n",
       "      <th>neighbourhood</th>\n",
       "      <th>city</th>\n",
       "      <th>accommodates</th>\n",
       "      <th>price</th>\n",
       "    </tr>\n",
       "  </thead>\n",
       "  <tbody>\n",
       "    <tr>\n",
       "      <th>9220</th>\n",
       "      <td>2013-10-23</td>\n",
       "      <td>Lower East Side</td>\n",
       "      <td>New York</td>\n",
       "      <td>3</td>\n",
       "      <td>110</td>\n",
       "    </tr>\n",
       "    <tr>\n",
       "      <th>9221</th>\n",
       "      <td>2013-10-02</td>\n",
       "      <td>Harlem</td>\n",
       "      <td>New York</td>\n",
       "      <td>2</td>\n",
       "      <td>99</td>\n",
       "    </tr>\n",
       "    <tr>\n",
       "      <th>9222</th>\n",
       "      <td>2014-09-27</td>\n",
       "      <td>Crown Heights</td>\n",
       "      <td>New York</td>\n",
       "      <td>6</td>\n",
       "      <td>220</td>\n",
       "    </tr>\n",
       "    <tr>\n",
       "      <th>9223</th>\n",
       "      <td>2014-10-18</td>\n",
       "      <td>Nolita</td>\n",
       "      <td>New York</td>\n",
       "      <td>2</td>\n",
       "      <td>215</td>\n",
       "    </tr>\n",
       "    <tr>\n",
       "      <th>9224</th>\n",
       "      <td>2012-10-14</td>\n",
       "      <td>Midtown</td>\n",
       "      <td>New York</td>\n",
       "      <td>3</td>\n",
       "      <td>300</td>\n",
       "    </tr>\n",
       "    <tr>\n",
       "      <th>...</th>\n",
       "      <td>...</td>\n",
       "      <td>...</td>\n",
       "      <td>...</td>\n",
       "      <td>...</td>\n",
       "      <td>...</td>\n",
       "    </tr>\n",
       "    <tr>\n",
       "      <th>268684</th>\n",
       "      <td>2014-06-29</td>\n",
       "      <td>Williamsburg</td>\n",
       "      <td>New York</td>\n",
       "      <td>5</td>\n",
       "      <td>115</td>\n",
       "    </tr>\n",
       "    <tr>\n",
       "      <th>268685</th>\n",
       "      <td>2014-06-02</td>\n",
       "      <td>Williamsburg</td>\n",
       "      <td>New York</td>\n",
       "      <td>2</td>\n",
       "      <td>140</td>\n",
       "    </tr>\n",
       "    <tr>\n",
       "      <th>268686</th>\n",
       "      <td>2016-01-01</td>\n",
       "      <td>West Village</td>\n",
       "      <td>New York</td>\n",
       "      <td>2</td>\n",
       "      <td>100</td>\n",
       "    </tr>\n",
       "    <tr>\n",
       "      <th>268687</th>\n",
       "      <td>2021-01-02</td>\n",
       "      <td>Bushwick</td>\n",
       "      <td>New York</td>\n",
       "      <td>5</td>\n",
       "      <td>188</td>\n",
       "    </tr>\n",
       "    <tr>\n",
       "      <th>273167</th>\n",
       "      <td>2012-01-12</td>\n",
       "      <td>Williamsburg</td>\n",
       "      <td>New York</td>\n",
       "      <td>2</td>\n",
       "      <td>120</td>\n",
       "    </tr>\n",
       "  </tbody>\n",
       "</table>\n",
       "<p>37012 rows × 5 columns</p>\n",
       "</div>"
      ],
      "text/plain": [
       "       host_since    neighbourhood      city  accommodates  price\n",
       "9220   2013-10-23  Lower East Side  New York             3    110\n",
       "9221   2013-10-02           Harlem  New York             2     99\n",
       "9222   2014-09-27    Crown Heights  New York             6    220\n",
       "9223   2014-10-18           Nolita  New York             2    215\n",
       "9224   2012-10-14          Midtown  New York             3    300\n",
       "...           ...              ...       ...           ...    ...\n",
       "268684 2014-06-29     Williamsburg  New York             5    115\n",
       "268685 2014-06-02     Williamsburg  New York             2    140\n",
       "268686 2016-01-01     West Village  New York             2    100\n",
       "268687 2021-01-02         Bushwick  New York             5    188\n",
       "273167 2012-01-12     Williamsburg  New York             2    120\n",
       "\n",
       "[37012 rows x 5 columns]"
      ]
     },
     "execution_count": 167,
     "metadata": {},
     "output_type": "execute_result"
    }
   ],
   "source": [
    "filtered_df"
   ]
  },
  {
   "cell_type": "code",
   "execution_count": 168,
   "id": "aba27ee2-c579-4535-b7bf-1e94725af9f1",
   "metadata": {},
   "outputs": [
    {
     "data": {
      "text/plain": [
       "neighbourhood\n",
       "Williamsburg          2733\n",
       "Bedford-Stuyvesant    2711\n",
       "Harlem                1972\n",
       "Bushwick              1678\n",
       "Hell's Kitchen        1506\n",
       "                      ... \n",
       "Huguenot                 1\n",
       "Woodrow                  1\n",
       "Lighthouse Hill          1\n",
       "Willowbrook              1\n",
       "Castle Hill              1\n",
       "Name: count, Length: 220, dtype: int64"
      ]
     },
     "execution_count": 168,
     "metadata": {},
     "output_type": "execute_result"
    }
   ],
   "source": [
    "filtered_df['neighbourhood'].value_counts()"
   ]
  },
  {
   "cell_type": "code",
   "execution_count": 169,
   "id": "ce4f1fce-293b-4777-97f1-de40857d0741",
   "metadata": {},
   "outputs": [],
   "source": [
    "values = filtered_df['neighbourhood'].value_counts()"
   ]
  },
  {
   "cell_type": "code",
   "execution_count": 170,
   "id": "ae0d8d67-79fa-4f2d-95af-c818531f5be2",
   "metadata": {},
   "outputs": [],
   "source": [
    "cities_to_keep = values[values >=  500].index"
   ]
  },
  {
   "cell_type": "code",
   "execution_count": 171,
   "id": "449d8e93-c99f-4a65-9bdd-95f3838cf103",
   "metadata": {},
   "outputs": [],
   "source": [
    "filtered_df = filtered_df[filtered_df['neighbourhood'].isin(cities_to_keep)]"
   ]
  },
  {
   "cell_type": "code",
   "execution_count": 172,
   "id": "b22aa4d1-f5d8-40af-913d-56c183162032",
   "metadata": {},
   "outputs": [
    {
     "data": {
      "text/html": [
       "<div>\n",
       "<style scoped>\n",
       "    .dataframe tbody tr th:only-of-type {\n",
       "        vertical-align: middle;\n",
       "    }\n",
       "\n",
       "    .dataframe tbody tr th {\n",
       "        vertical-align: top;\n",
       "    }\n",
       "\n",
       "    .dataframe thead th {\n",
       "        text-align: right;\n",
       "    }\n",
       "</style>\n",
       "<table border=\"1\" class=\"dataframe\">\n",
       "  <thead>\n",
       "    <tr style=\"text-align: right;\">\n",
       "      <th></th>\n",
       "      <th>host_since</th>\n",
       "      <th>neighbourhood</th>\n",
       "      <th>city</th>\n",
       "      <th>accommodates</th>\n",
       "      <th>price</th>\n",
       "    </tr>\n",
       "  </thead>\n",
       "  <tbody>\n",
       "    <tr>\n",
       "      <th>9220</th>\n",
       "      <td>2013-10-23</td>\n",
       "      <td>Lower East Side</td>\n",
       "      <td>New York</td>\n",
       "      <td>3</td>\n",
       "      <td>110</td>\n",
       "    </tr>\n",
       "    <tr>\n",
       "      <th>9221</th>\n",
       "      <td>2013-10-02</td>\n",
       "      <td>Harlem</td>\n",
       "      <td>New York</td>\n",
       "      <td>2</td>\n",
       "      <td>99</td>\n",
       "    </tr>\n",
       "    <tr>\n",
       "      <th>9222</th>\n",
       "      <td>2014-09-27</td>\n",
       "      <td>Crown Heights</td>\n",
       "      <td>New York</td>\n",
       "      <td>6</td>\n",
       "      <td>220</td>\n",
       "    </tr>\n",
       "    <tr>\n",
       "      <th>9224</th>\n",
       "      <td>2012-10-14</td>\n",
       "      <td>Midtown</td>\n",
       "      <td>New York</td>\n",
       "      <td>3</td>\n",
       "      <td>300</td>\n",
       "    </tr>\n",
       "    <tr>\n",
       "      <th>9225</th>\n",
       "      <td>2013-09-21</td>\n",
       "      <td>Lower East Side</td>\n",
       "      <td>New York</td>\n",
       "      <td>2</td>\n",
       "      <td>120</td>\n",
       "    </tr>\n",
       "    <tr>\n",
       "      <th>...</th>\n",
       "      <td>...</td>\n",
       "      <td>...</td>\n",
       "      <td>...</td>\n",
       "      <td>...</td>\n",
       "      <td>...</td>\n",
       "    </tr>\n",
       "    <tr>\n",
       "      <th>268684</th>\n",
       "      <td>2014-06-29</td>\n",
       "      <td>Williamsburg</td>\n",
       "      <td>New York</td>\n",
       "      <td>5</td>\n",
       "      <td>115</td>\n",
       "    </tr>\n",
       "    <tr>\n",
       "      <th>268685</th>\n",
       "      <td>2014-06-02</td>\n",
       "      <td>Williamsburg</td>\n",
       "      <td>New York</td>\n",
       "      <td>2</td>\n",
       "      <td>140</td>\n",
       "    </tr>\n",
       "    <tr>\n",
       "      <th>268686</th>\n",
       "      <td>2016-01-01</td>\n",
       "      <td>West Village</td>\n",
       "      <td>New York</td>\n",
       "      <td>2</td>\n",
       "      <td>100</td>\n",
       "    </tr>\n",
       "    <tr>\n",
       "      <th>268687</th>\n",
       "      <td>2021-01-02</td>\n",
       "      <td>Bushwick</td>\n",
       "      <td>New York</td>\n",
       "      <td>5</td>\n",
       "      <td>188</td>\n",
       "    </tr>\n",
       "    <tr>\n",
       "      <th>273167</th>\n",
       "      <td>2012-01-12</td>\n",
       "      <td>Williamsburg</td>\n",
       "      <td>New York</td>\n",
       "      <td>2</td>\n",
       "      <td>120</td>\n",
       "    </tr>\n",
       "  </tbody>\n",
       "</table>\n",
       "<p>22811 rows × 5 columns</p>\n",
       "</div>"
      ],
      "text/plain": [
       "       host_since    neighbourhood      city  accommodates  price\n",
       "9220   2013-10-23  Lower East Side  New York             3    110\n",
       "9221   2013-10-02           Harlem  New York             2     99\n",
       "9222   2014-09-27    Crown Heights  New York             6    220\n",
       "9224   2012-10-14          Midtown  New York             3    300\n",
       "9225   2013-09-21  Lower East Side  New York             2    120\n",
       "...           ...              ...       ...           ...    ...\n",
       "268684 2014-06-29     Williamsburg  New York             5    115\n",
       "268685 2014-06-02     Williamsburg  New York             2    140\n",
       "268686 2016-01-01     West Village  New York             2    100\n",
       "268687 2021-01-02         Bushwick  New York             5    188\n",
       "273167 2012-01-12     Williamsburg  New York             2    120\n",
       "\n",
       "[22811 rows x 5 columns]"
      ]
     },
     "execution_count": 172,
     "metadata": {},
     "output_type": "execute_result"
    }
   ],
   "source": [
    "filtered_df"
   ]
  },
  {
   "cell_type": "code",
   "execution_count": 173,
   "id": "9d21c1f3-c4d0-405e-ab32-ae3fdfdb0b2c",
   "metadata": {},
   "outputs": [
    {
     "data": {
      "text/plain": [
       "array(['New York'], dtype=object)"
      ]
     },
     "execution_count": 173,
     "metadata": {},
     "output_type": "execute_result"
    }
   ],
   "source": [
    "filtered_df['city'].unique()"
   ]
  },
  {
   "cell_type": "code",
   "execution_count": 174,
   "id": "656092cd-d7c8-4a09-8246-e8fc679f8f45",
   "metadata": {},
   "outputs": [
    {
     "data": {
      "text/plain": [
       "array([ 3,  2,  6,  4,  1,  8,  5,  7, 10,  9, 13, 12, 16, 15, 14, 11,  0],\n",
       "      dtype=int64)"
      ]
     },
     "execution_count": 174,
     "metadata": {},
     "output_type": "execute_result"
    }
   ],
   "source": [
    "filtered_df['accommodates'].unique()"
   ]
  },
  {
   "cell_type": "code",
   "execution_count": 175,
   "id": "e682a6e4-8e5b-414a-b8b0-aa933a55b8a0",
   "metadata": {},
   "outputs": [
    {
     "data": {
      "text/plain": [
       "0"
      ]
     },
     "execution_count": 175,
     "metadata": {},
     "output_type": "execute_result"
    }
   ],
   "source": [
    "filtered_df['accommodates'].min()"
   ]
  },
  {
   "cell_type": "code",
   "execution_count": 176,
   "id": "2d4c18fc-d665-40a0-a0e2-ae4801d165f6",
   "metadata": {},
   "outputs": [
    {
     "data": {
      "text/plain": [
       "16"
      ]
     },
     "execution_count": 176,
     "metadata": {},
     "output_type": "execute_result"
    }
   ],
   "source": [
    "filtered_df['accommodates'].max()"
   ]
  },
  {
   "cell_type": "code",
   "execution_count": 177,
   "id": "93e97570-8cf0-4c1e-b30e-824925a5b559",
   "metadata": {},
   "outputs": [
    {
     "data": {
      "text/plain": [
       "2.750997325851563"
      ]
     },
     "execution_count": 177,
     "metadata": {},
     "output_type": "execute_result"
    }
   ],
   "source": [
    "filtered_df['accommodates'].mean()"
   ]
  },
  {
   "cell_type": "code",
   "execution_count": 178,
   "id": "63ccade0-b962-4384-b2e7-8be6ca281dbc",
   "metadata": {},
   "outputs": [
    {
     "data": {
      "text/plain": [
       "Series([], Name: price, dtype: int64)"
      ]
     },
     "execution_count": 178,
     "metadata": {},
     "output_type": "execute_result"
    }
   ],
   "source": [
    "filtered_df['price'][filtered_df['price'].isna()]"
   ]
  },
  {
   "cell_type": "code",
   "execution_count": 179,
   "id": "3ef8f1b8-0f56-431f-8abe-e35d7548e232",
   "metadata": {},
   "outputs": [
    {
     "data": {
      "text/plain": [
       "0"
      ]
     },
     "execution_count": 179,
     "metadata": {},
     "output_type": "execute_result"
    }
   ],
   "source": [
    "filtered_df['price'].min()"
   ]
  },
  {
   "cell_type": "code",
   "execution_count": 180,
   "id": "ddce21b6-9a91-46ad-b364-06055453e6a3",
   "metadata": {},
   "outputs": [
    {
     "data": {
      "text/plain": [
       "10000"
      ]
     },
     "execution_count": 180,
     "metadata": {},
     "output_type": "execute_result"
    }
   ],
   "source": [
    "filtered_df['price'].max()"
   ]
  },
  {
   "cell_type": "code",
   "execution_count": 181,
   "id": "f7991200-f9e7-4056-ac8a-cc2b27b5fd5b",
   "metadata": {},
   "outputs": [
    {
     "data": {
      "text/plain": [
       "147.35119021524704"
      ]
     },
     "execution_count": 181,
     "metadata": {},
     "output_type": "execute_result"
    }
   ],
   "source": [
    "filtered_df['price'].mean()"
   ]
  },
  {
   "cell_type": "code",
   "execution_count": 182,
   "id": "5a67480d-0c75-4724-8222-e7d751cdba19",
   "metadata": {},
   "outputs": [
    {
     "data": {
      "text/html": [
       "<div>\n",
       "<style scoped>\n",
       "    .dataframe tbody tr th:only-of-type {\n",
       "        vertical-align: middle;\n",
       "    }\n",
       "\n",
       "    .dataframe tbody tr th {\n",
       "        vertical-align: top;\n",
       "    }\n",
       "\n",
       "    .dataframe thead th {\n",
       "        text-align: right;\n",
       "    }\n",
       "</style>\n",
       "<table border=\"1\" class=\"dataframe\">\n",
       "  <thead>\n",
       "    <tr style=\"text-align: right;\">\n",
       "      <th></th>\n",
       "      <th>host_since</th>\n",
       "      <th>neighbourhood</th>\n",
       "      <th>city</th>\n",
       "      <th>accommodates</th>\n",
       "      <th>price</th>\n",
       "    </tr>\n",
       "  </thead>\n",
       "  <tbody>\n",
       "    <tr>\n",
       "      <th>0</th>\n",
       "      <td>2013-10-23</td>\n",
       "      <td>Lower East Side</td>\n",
       "      <td>New York</td>\n",
       "      <td>3</td>\n",
       "      <td>110</td>\n",
       "    </tr>\n",
       "    <tr>\n",
       "      <th>1</th>\n",
       "      <td>2013-10-02</td>\n",
       "      <td>Harlem</td>\n",
       "      <td>New York</td>\n",
       "      <td>2</td>\n",
       "      <td>99</td>\n",
       "    </tr>\n",
       "    <tr>\n",
       "      <th>2</th>\n",
       "      <td>2014-09-27</td>\n",
       "      <td>Crown Heights</td>\n",
       "      <td>New York</td>\n",
       "      <td>6</td>\n",
       "      <td>220</td>\n",
       "    </tr>\n",
       "    <tr>\n",
       "      <th>3</th>\n",
       "      <td>2012-10-14</td>\n",
       "      <td>Midtown</td>\n",
       "      <td>New York</td>\n",
       "      <td>3</td>\n",
       "      <td>300</td>\n",
       "    </tr>\n",
       "    <tr>\n",
       "      <th>4</th>\n",
       "      <td>2013-09-21</td>\n",
       "      <td>Lower East Side</td>\n",
       "      <td>New York</td>\n",
       "      <td>2</td>\n",
       "      <td>120</td>\n",
       "    </tr>\n",
       "    <tr>\n",
       "      <th>...</th>\n",
       "      <td>...</td>\n",
       "      <td>...</td>\n",
       "      <td>...</td>\n",
       "      <td>...</td>\n",
       "      <td>...</td>\n",
       "    </tr>\n",
       "    <tr>\n",
       "      <th>22806</th>\n",
       "      <td>2014-06-29</td>\n",
       "      <td>Williamsburg</td>\n",
       "      <td>New York</td>\n",
       "      <td>5</td>\n",
       "      <td>115</td>\n",
       "    </tr>\n",
       "    <tr>\n",
       "      <th>22807</th>\n",
       "      <td>2014-06-02</td>\n",
       "      <td>Williamsburg</td>\n",
       "      <td>New York</td>\n",
       "      <td>2</td>\n",
       "      <td>140</td>\n",
       "    </tr>\n",
       "    <tr>\n",
       "      <th>22808</th>\n",
       "      <td>2016-01-01</td>\n",
       "      <td>West Village</td>\n",
       "      <td>New York</td>\n",
       "      <td>2</td>\n",
       "      <td>100</td>\n",
       "    </tr>\n",
       "    <tr>\n",
       "      <th>22809</th>\n",
       "      <td>2021-01-02</td>\n",
       "      <td>Bushwick</td>\n",
       "      <td>New York</td>\n",
       "      <td>5</td>\n",
       "      <td>188</td>\n",
       "    </tr>\n",
       "    <tr>\n",
       "      <th>22810</th>\n",
       "      <td>2012-01-12</td>\n",
       "      <td>Williamsburg</td>\n",
       "      <td>New York</td>\n",
       "      <td>2</td>\n",
       "      <td>120</td>\n",
       "    </tr>\n",
       "  </tbody>\n",
       "</table>\n",
       "<p>22811 rows × 5 columns</p>\n",
       "</div>"
      ],
      "text/plain": [
       "      host_since    neighbourhood      city  accommodates  price\n",
       "0     2013-10-23  Lower East Side  New York             3    110\n",
       "1     2013-10-02           Harlem  New York             2     99\n",
       "2     2014-09-27    Crown Heights  New York             6    220\n",
       "3     2012-10-14          Midtown  New York             3    300\n",
       "4     2013-09-21  Lower East Side  New York             2    120\n",
       "...          ...              ...       ...           ...    ...\n",
       "22806 2014-06-29     Williamsburg  New York             5    115\n",
       "22807 2014-06-02     Williamsburg  New York             2    140\n",
       "22808 2016-01-01     West Village  New York             2    100\n",
       "22809 2021-01-02         Bushwick  New York             5    188\n",
       "22810 2012-01-12     Williamsburg  New York             2    120\n",
       "\n",
       "[22811 rows x 5 columns]"
      ]
     },
     "execution_count": 182,
     "metadata": {},
     "output_type": "execute_result"
    }
   ],
   "source": [
    "filtered_df = filtered_df.reset_index(drop=True)\n",
    "filtered_df"
   ]
  },
  {
   "cell_type": "code",
   "execution_count": 183,
   "id": "b30669bc-6889-45e0-87cb-6c750b9d2da1",
   "metadata": {},
   "outputs": [
    {
     "data": {
      "text/plain": [
       "host_since       11\n",
       "neighbourhood     0\n",
       "city              0\n",
       "accommodates      0\n",
       "price             0\n",
       "dtype: int64"
      ]
     },
     "execution_count": 183,
     "metadata": {},
     "output_type": "execute_result"
    }
   ],
   "source": [
    "filtered_df.isna().sum()"
   ]
  },
  {
   "cell_type": "code",
   "execution_count": 184,
   "id": "6e9ede73-3cc1-4900-8be3-dcc8a5a94e14",
   "metadata": {},
   "outputs": [
    {
     "data": {
      "text/html": [
       "<div>\n",
       "<style scoped>\n",
       "    .dataframe tbody tr th:only-of-type {\n",
       "        vertical-align: middle;\n",
       "    }\n",
       "\n",
       "    .dataframe tbody tr th {\n",
       "        vertical-align: top;\n",
       "    }\n",
       "\n",
       "    .dataframe thead th {\n",
       "        text-align: right;\n",
       "    }\n",
       "</style>\n",
       "<table border=\"1\" class=\"dataframe\">\n",
       "  <thead>\n",
       "    <tr style=\"text-align: right;\">\n",
       "      <th></th>\n",
       "      <th>host_since</th>\n",
       "      <th>accommodates</th>\n",
       "      <th>price</th>\n",
       "    </tr>\n",
       "  </thead>\n",
       "  <tbody>\n",
       "    <tr>\n",
       "      <th>count</th>\n",
       "      <td>22800</td>\n",
       "      <td>22811.000000</td>\n",
       "      <td>22811.000000</td>\n",
       "    </tr>\n",
       "    <tr>\n",
       "      <th>mean</th>\n",
       "      <td>2015-07-30 02:26:20.210526208</td>\n",
       "      <td>2.750997</td>\n",
       "      <td>147.351190</td>\n",
       "    </tr>\n",
       "    <tr>\n",
       "      <th>min</th>\n",
       "      <td>2008-08-22 00:00:00</td>\n",
       "      <td>0.000000</td>\n",
       "      <td>0.000000</td>\n",
       "    </tr>\n",
       "    <tr>\n",
       "      <th>25%</th>\n",
       "      <td>2013-09-03 00:00:00</td>\n",
       "      <td>2.000000</td>\n",
       "      <td>65.000000</td>\n",
       "    </tr>\n",
       "    <tr>\n",
       "      <th>50%</th>\n",
       "      <td>2015-05-19 00:00:00</td>\n",
       "      <td>2.000000</td>\n",
       "      <td>100.000000</td>\n",
       "    </tr>\n",
       "    <tr>\n",
       "      <th>75%</th>\n",
       "      <td>2017-05-19 00:00:00</td>\n",
       "      <td>4.000000</td>\n",
       "      <td>160.000000</td>\n",
       "    </tr>\n",
       "    <tr>\n",
       "      <th>max</th>\n",
       "      <td>2021-02-02 00:00:00</td>\n",
       "      <td>16.000000</td>\n",
       "      <td>10000.000000</td>\n",
       "    </tr>\n",
       "    <tr>\n",
       "      <th>std</th>\n",
       "      <td>NaN</td>\n",
       "      <td>1.760416</td>\n",
       "      <td>289.503425</td>\n",
       "    </tr>\n",
       "  </tbody>\n",
       "</table>\n",
       "</div>"
      ],
      "text/plain": [
       "                          host_since  accommodates         price\n",
       "count                          22800  22811.000000  22811.000000\n",
       "mean   2015-07-30 02:26:20.210526208      2.750997    147.351190\n",
       "min              2008-08-22 00:00:00      0.000000      0.000000\n",
       "25%              2013-09-03 00:00:00      2.000000     65.000000\n",
       "50%              2015-05-19 00:00:00      2.000000    100.000000\n",
       "75%              2017-05-19 00:00:00      4.000000    160.000000\n",
       "max              2021-02-02 00:00:00     16.000000  10000.000000\n",
       "std                              NaN      1.760416    289.503425"
      ]
     },
     "execution_count": 184,
     "metadata": {},
     "output_type": "execute_result"
    }
   ],
   "source": [
    "filtered_df.describe()"
   ]
  },
  {
   "cell_type": "code",
   "execution_count": 185,
   "id": "d4205c27-33fd-47b5-b059-e38f4ce32112",
   "metadata": {},
   "outputs": [
    {
     "data": {
      "text/plain": [
       "host_since       8\n",
       "neighbourhood    8\n",
       "city             8\n",
       "accommodates     8\n",
       "price            8\n",
       "dtype: int64"
      ]
     },
     "execution_count": 185,
     "metadata": {},
     "output_type": "execute_result"
    }
   ],
   "source": [
    "filtered_df.query(\"accommodates == 0\").count()"
   ]
  },
  {
   "cell_type": "code",
   "execution_count": 186,
   "id": "daecfec5-af98-4696-8fec-1f99350ceb93",
   "metadata": {},
   "outputs": [],
   "source": [
    "filtered_df = filtered_df[filtered_df['accommodates'] != 0]"
   ]
  },
  {
   "cell_type": "code",
   "execution_count": 187,
   "id": "3765df96-50f9-4a69-9bb1-b81cdb5b6be9",
   "metadata": {},
   "outputs": [
    {
     "data": {
      "text/html": [
       "<div>\n",
       "<style scoped>\n",
       "    .dataframe tbody tr th:only-of-type {\n",
       "        vertical-align: middle;\n",
       "    }\n",
       "\n",
       "    .dataframe tbody tr th {\n",
       "        vertical-align: top;\n",
       "    }\n",
       "\n",
       "    .dataframe thead th {\n",
       "        text-align: right;\n",
       "    }\n",
       "</style>\n",
       "<table border=\"1\" class=\"dataframe\">\n",
       "  <thead>\n",
       "    <tr style=\"text-align: right;\">\n",
       "      <th></th>\n",
       "      <th>host_since</th>\n",
       "      <th>neighbourhood</th>\n",
       "      <th>city</th>\n",
       "      <th>accommodates</th>\n",
       "      <th>price</th>\n",
       "    </tr>\n",
       "  </thead>\n",
       "  <tbody>\n",
       "    <tr>\n",
       "      <th>0</th>\n",
       "      <td>2013-10-23</td>\n",
       "      <td>Lower East Side</td>\n",
       "      <td>New York</td>\n",
       "      <td>3</td>\n",
       "      <td>110</td>\n",
       "    </tr>\n",
       "    <tr>\n",
       "      <th>1</th>\n",
       "      <td>2013-10-02</td>\n",
       "      <td>Harlem</td>\n",
       "      <td>New York</td>\n",
       "      <td>2</td>\n",
       "      <td>99</td>\n",
       "    </tr>\n",
       "    <tr>\n",
       "      <th>2</th>\n",
       "      <td>2014-09-27</td>\n",
       "      <td>Crown Heights</td>\n",
       "      <td>New York</td>\n",
       "      <td>6</td>\n",
       "      <td>220</td>\n",
       "    </tr>\n",
       "    <tr>\n",
       "      <th>3</th>\n",
       "      <td>2012-10-14</td>\n",
       "      <td>Midtown</td>\n",
       "      <td>New York</td>\n",
       "      <td>3</td>\n",
       "      <td>300</td>\n",
       "    </tr>\n",
       "    <tr>\n",
       "      <th>4</th>\n",
       "      <td>2013-09-21</td>\n",
       "      <td>Lower East Side</td>\n",
       "      <td>New York</td>\n",
       "      <td>2</td>\n",
       "      <td>120</td>\n",
       "    </tr>\n",
       "    <tr>\n",
       "      <th>...</th>\n",
       "      <td>...</td>\n",
       "      <td>...</td>\n",
       "      <td>...</td>\n",
       "      <td>...</td>\n",
       "      <td>...</td>\n",
       "    </tr>\n",
       "    <tr>\n",
       "      <th>22806</th>\n",
       "      <td>2014-06-29</td>\n",
       "      <td>Williamsburg</td>\n",
       "      <td>New York</td>\n",
       "      <td>5</td>\n",
       "      <td>115</td>\n",
       "    </tr>\n",
       "    <tr>\n",
       "      <th>22807</th>\n",
       "      <td>2014-06-02</td>\n",
       "      <td>Williamsburg</td>\n",
       "      <td>New York</td>\n",
       "      <td>2</td>\n",
       "      <td>140</td>\n",
       "    </tr>\n",
       "    <tr>\n",
       "      <th>22808</th>\n",
       "      <td>2016-01-01</td>\n",
       "      <td>West Village</td>\n",
       "      <td>New York</td>\n",
       "      <td>2</td>\n",
       "      <td>100</td>\n",
       "    </tr>\n",
       "    <tr>\n",
       "      <th>22809</th>\n",
       "      <td>2021-01-02</td>\n",
       "      <td>Bushwick</td>\n",
       "      <td>New York</td>\n",
       "      <td>5</td>\n",
       "      <td>188</td>\n",
       "    </tr>\n",
       "    <tr>\n",
       "      <th>22810</th>\n",
       "      <td>2012-01-12</td>\n",
       "      <td>Williamsburg</td>\n",
       "      <td>New York</td>\n",
       "      <td>2</td>\n",
       "      <td>120</td>\n",
       "    </tr>\n",
       "  </tbody>\n",
       "</table>\n",
       "<p>22792 rows × 5 columns</p>\n",
       "</div>"
      ],
      "text/plain": [
       "      host_since    neighbourhood      city  accommodates  price\n",
       "0     2013-10-23  Lower East Side  New York             3    110\n",
       "1     2013-10-02           Harlem  New York             2     99\n",
       "2     2014-09-27    Crown Heights  New York             6    220\n",
       "3     2012-10-14          Midtown  New York             3    300\n",
       "4     2013-09-21  Lower East Side  New York             2    120\n",
       "...          ...              ...       ...           ...    ...\n",
       "22806 2014-06-29     Williamsburg  New York             5    115\n",
       "22807 2014-06-02     Williamsburg  New York             2    140\n",
       "22808 2016-01-01     West Village  New York             2    100\n",
       "22809 2021-01-02         Bushwick  New York             5    188\n",
       "22810 2012-01-12     Williamsburg  New York             2    120\n",
       "\n",
       "[22792 rows x 5 columns]"
      ]
     },
     "execution_count": 187,
     "metadata": {},
     "output_type": "execute_result"
    }
   ],
   "source": [
    "filtered_df = filtered_df[filtered_df['price'] != 0]\n",
    "filtered_df"
   ]
  },
  {
   "cell_type": "code",
   "execution_count": 188,
   "id": "cf7b1d96-6fe7-4a18-bec2-d0f4edb6e5d0",
   "metadata": {},
   "outputs": [
    {
     "data": {
      "text/html": [
       "<div>\n",
       "<style scoped>\n",
       "    .dataframe tbody tr th:only-of-type {\n",
       "        vertical-align: middle;\n",
       "    }\n",
       "\n",
       "    .dataframe tbody tr th {\n",
       "        vertical-align: top;\n",
       "    }\n",
       "\n",
       "    .dataframe thead th {\n",
       "        text-align: right;\n",
       "    }\n",
       "</style>\n",
       "<table border=\"1\" class=\"dataframe\">\n",
       "  <thead>\n",
       "    <tr style=\"text-align: right;\">\n",
       "      <th></th>\n",
       "      <th>price</th>\n",
       "    </tr>\n",
       "    <tr>\n",
       "      <th>neighbourhood</th>\n",
       "      <th></th>\n",
       "    </tr>\n",
       "  </thead>\n",
       "  <tbody>\n",
       "    <tr>\n",
       "      <th>Bushwick</th>\n",
       "      <td>84.500596</td>\n",
       "    </tr>\n",
       "    <tr>\n",
       "      <th>Washington Heights</th>\n",
       "      <td>94.867299</td>\n",
       "    </tr>\n",
       "    <tr>\n",
       "      <th>Astoria</th>\n",
       "      <td>103.705882</td>\n",
       "    </tr>\n",
       "    <tr>\n",
       "      <th>Bedford-Stuyvesant</th>\n",
       "      <td>104.412394</td>\n",
       "    </tr>\n",
       "    <tr>\n",
       "      <th>Crown Heights</th>\n",
       "      <td>111.743567</td>\n",
       "    </tr>\n",
       "    <tr>\n",
       "      <th>Harlem</th>\n",
       "      <td>112.512677</td>\n",
       "    </tr>\n",
       "    <tr>\n",
       "      <th>East Harlem</th>\n",
       "      <td>123.200549</td>\n",
       "    </tr>\n",
       "    <tr>\n",
       "      <th>Greenpoint</th>\n",
       "      <td>130.420074</td>\n",
       "    </tr>\n",
       "    <tr>\n",
       "      <th>Williamsburg</th>\n",
       "      <td>131.408275</td>\n",
       "    </tr>\n",
       "    <tr>\n",
       "      <th>Financial District</th>\n",
       "      <td>161.634766</td>\n",
       "    </tr>\n",
       "    <tr>\n",
       "      <th>Upper East Side</th>\n",
       "      <td>171.423249</td>\n",
       "    </tr>\n",
       "    <tr>\n",
       "      <th>East Village</th>\n",
       "      <td>176.247525</td>\n",
       "    </tr>\n",
       "    <tr>\n",
       "      <th>Hell's Kitchen</th>\n",
       "      <td>176.282102</td>\n",
       "    </tr>\n",
       "    <tr>\n",
       "      <th>Chelsea</th>\n",
       "      <td>197.787600</td>\n",
       "    </tr>\n",
       "    <tr>\n",
       "      <th>Upper West Side</th>\n",
       "      <td>200.764787</td>\n",
       "    </tr>\n",
       "    <tr>\n",
       "      <th>West Village</th>\n",
       "      <td>215.222408</td>\n",
       "    </tr>\n",
       "    <tr>\n",
       "      <th>Midtown</th>\n",
       "      <td>226.777701</td>\n",
       "    </tr>\n",
       "    <tr>\n",
       "      <th>Lower East Side</th>\n",
       "      <td>250.232624</td>\n",
       "    </tr>\n",
       "  </tbody>\n",
       "</table>\n",
       "</div>"
      ],
      "text/plain": [
       "                         price\n",
       "neighbourhood                 \n",
       "Bushwick             84.500596\n",
       "Washington Heights   94.867299\n",
       "Astoria             103.705882\n",
       "Bedford-Stuyvesant  104.412394\n",
       "Crown Heights       111.743567\n",
       "Harlem              112.512677\n",
       "East Harlem         123.200549\n",
       "Greenpoint          130.420074\n",
       "Williamsburg        131.408275\n",
       "Financial District  161.634766\n",
       "Upper East Side     171.423249\n",
       "East Village        176.247525\n",
       "Hell's Kitchen      176.282102\n",
       "Chelsea             197.787600\n",
       "Upper West Side     200.764787\n",
       "West Village        215.222408\n",
       "Midtown             226.777701\n",
       "Lower East Side     250.232624"
      ]
     },
     "execution_count": 188,
     "metadata": {},
     "output_type": "execute_result"
    }
   ],
   "source": [
    "NYork_neighbourhood = (\n",
    "    filtered_df\n",
    "    .groupby(\"neighbourhood\")\n",
    "    .agg({\"price\": \"mean\"})\n",
    "    .sort_values(\"price\")\n",
    ")\n",
    "\n",
    "NYork_neighbourhood"
   ]
  },
  {
   "cell_type": "code",
   "execution_count": 189,
   "id": "cc5e9267-ffc9-4c91-8e69-d7c67b69639e",
   "metadata": {},
   "outputs": [
    {
     "data": {
      "text/html": [
       "<div>\n",
       "<style scoped>\n",
       "    .dataframe tbody tr th:only-of-type {\n",
       "        vertical-align: middle;\n",
       "    }\n",
       "\n",
       "    .dataframe tbody tr th {\n",
       "        vertical-align: top;\n",
       "    }\n",
       "\n",
       "    .dataframe thead th {\n",
       "        text-align: right;\n",
       "    }\n",
       "</style>\n",
       "<table border=\"1\" class=\"dataframe\">\n",
       "  <thead>\n",
       "    <tr style=\"text-align: right;\">\n",
       "      <th></th>\n",
       "      <th>price</th>\n",
       "    </tr>\n",
       "    <tr>\n",
       "      <th>accommodates</th>\n",
       "      <th></th>\n",
       "    </tr>\n",
       "  </thead>\n",
       "  <tbody>\n",
       "    <tr>\n",
       "      <th>1</th>\n",
       "      <td>67.063291</td>\n",
       "    </tr>\n",
       "    <tr>\n",
       "      <th>2</th>\n",
       "      <td>83.368834</td>\n",
       "    </tr>\n",
       "    <tr>\n",
       "      <th>3</th>\n",
       "      <td>109.759358</td>\n",
       "    </tr>\n",
       "    <tr>\n",
       "      <th>4</th>\n",
       "      <td>152.955466</td>\n",
       "    </tr>\n",
       "    <tr>\n",
       "      <th>5</th>\n",
       "      <td>175.347222</td>\n",
       "    </tr>\n",
       "    <tr>\n",
       "      <th>6</th>\n",
       "      <td>218.297872</td>\n",
       "    </tr>\n",
       "    <tr>\n",
       "      <th>8</th>\n",
       "      <td>231.833333</td>\n",
       "    </tr>\n",
       "    <tr>\n",
       "      <th>7</th>\n",
       "      <td>253.875000</td>\n",
       "    </tr>\n",
       "    <tr>\n",
       "      <th>15</th>\n",
       "      <td>275.000000</td>\n",
       "    </tr>\n",
       "    <tr>\n",
       "      <th>11</th>\n",
       "      <td>311.250000</td>\n",
       "    </tr>\n",
       "    <tr>\n",
       "      <th>10</th>\n",
       "      <td>372.800000</td>\n",
       "    </tr>\n",
       "    <tr>\n",
       "      <th>16</th>\n",
       "      <td>479.666667</td>\n",
       "    </tr>\n",
       "    <tr>\n",
       "      <th>13</th>\n",
       "      <td>498.000000</td>\n",
       "    </tr>\n",
       "    <tr>\n",
       "      <th>9</th>\n",
       "      <td>508.800000</td>\n",
       "    </tr>\n",
       "    <tr>\n",
       "      <th>12</th>\n",
       "      <td>769.000000</td>\n",
       "    </tr>\n",
       "  </tbody>\n",
       "</table>\n",
       "</div>"
      ],
      "text/plain": [
       "                   price\n",
       "accommodates            \n",
       "1              67.063291\n",
       "2              83.368834\n",
       "3             109.759358\n",
       "4             152.955466\n",
       "5             175.347222\n",
       "6             218.297872\n",
       "8             231.833333\n",
       "7             253.875000\n",
       "15            275.000000\n",
       "11            311.250000\n",
       "10            372.800000\n",
       "16            479.666667\n",
       "13            498.000000\n",
       "9             508.800000\n",
       "12            769.000000"
      ]
     },
     "execution_count": 189,
     "metadata": {},
     "output_type": "execute_result"
    }
   ],
   "source": [
    "NYork_accomodates = (\n",
    "    filtered_df\n",
    "    .query(\"neighbourhood == 'Harlem'\")\n",
    "    .groupby(\"accommodates\")\n",
    "    .agg({\"price\": \"mean\"})\n",
    "    .sort_values(\"price\")\n",
    ")\n",
    "\n",
    "NYork_accomodates"
   ]
  },
  {
   "cell_type": "code",
   "execution_count": 190,
   "id": "8c40339f-1124-415d-a492-1dc47b7f5a00",
   "metadata": {},
   "outputs": [
    {
     "data": {
      "text/html": [
       "<div>\n",
       "<style scoped>\n",
       "    .dataframe tbody tr th:only-of-type {\n",
       "        vertical-align: middle;\n",
       "    }\n",
       "\n",
       "    .dataframe tbody tr th {\n",
       "        vertical-align: top;\n",
       "    }\n",
       "\n",
       "    .dataframe thead th {\n",
       "        text-align: right;\n",
       "    }\n",
       "</style>\n",
       "<table border=\"1\" class=\"dataframe\">\n",
       "  <thead>\n",
       "    <tr style=\"text-align: right;\">\n",
       "      <th></th>\n",
       "      <th>neighbourhood</th>\n",
       "      <th>price</th>\n",
       "    </tr>\n",
       "    <tr>\n",
       "      <th>host_since</th>\n",
       "      <th></th>\n",
       "      <th></th>\n",
       "    </tr>\n",
       "  </thead>\n",
       "  <tbody>\n",
       "    <tr>\n",
       "      <th>2008-12-31</th>\n",
       "      <td>12</td>\n",
       "      <td>83.083333</td>\n",
       "    </tr>\n",
       "    <tr>\n",
       "      <th>2009-12-31</th>\n",
       "      <td>156</td>\n",
       "      <td>131.333333</td>\n",
       "    </tr>\n",
       "    <tr>\n",
       "      <th>2010-12-31</th>\n",
       "      <td>440</td>\n",
       "      <td>142.359091</td>\n",
       "    </tr>\n",
       "    <tr>\n",
       "      <th>2011-12-31</th>\n",
       "      <td>1220</td>\n",
       "      <td>174.570492</td>\n",
       "    </tr>\n",
       "    <tr>\n",
       "      <th>2012-12-31</th>\n",
       "      <td>2100</td>\n",
       "      <td>160.919524</td>\n",
       "    </tr>\n",
       "    <tr>\n",
       "      <th>2013-12-31</th>\n",
       "      <td>2769</td>\n",
       "      <td>145.661250</td>\n",
       "    </tr>\n",
       "    <tr>\n",
       "      <th>2014-12-31</th>\n",
       "      <td>3500</td>\n",
       "      <td>137.306000</td>\n",
       "    </tr>\n",
       "    <tr>\n",
       "      <th>2015-12-31</th>\n",
       "      <td>3607</td>\n",
       "      <td>132.635708</td>\n",
       "    </tr>\n",
       "    <tr>\n",
       "      <th>2016-12-31</th>\n",
       "      <td>2698</td>\n",
       "      <td>155.335804</td>\n",
       "    </tr>\n",
       "    <tr>\n",
       "      <th>2017-12-31</th>\n",
       "      <td>1611</td>\n",
       "      <td>134.756052</td>\n",
       "    </tr>\n",
       "    <tr>\n",
       "      <th>2018-12-31</th>\n",
       "      <td>1411</td>\n",
       "      <td>166.265060</td>\n",
       "    </tr>\n",
       "    <tr>\n",
       "      <th>2019-12-31</th>\n",
       "      <td>1963</td>\n",
       "      <td>169.946001</td>\n",
       "    </tr>\n",
       "    <tr>\n",
       "      <th>2020-12-31</th>\n",
       "      <td>1171</td>\n",
       "      <td>124.371477</td>\n",
       "    </tr>\n",
       "    <tr>\n",
       "      <th>2021-12-31</th>\n",
       "      <td>123</td>\n",
       "      <td>101.593496</td>\n",
       "    </tr>\n",
       "  </tbody>\n",
       "</table>\n",
       "</div>"
      ],
      "text/plain": [
       "            neighbourhood       price\n",
       "host_since                           \n",
       "2008-12-31             12   83.083333\n",
       "2009-12-31            156  131.333333\n",
       "2010-12-31            440  142.359091\n",
       "2011-12-31           1220  174.570492\n",
       "2012-12-31           2100  160.919524\n",
       "2013-12-31           2769  145.661250\n",
       "2014-12-31           3500  137.306000\n",
       "2015-12-31           3607  132.635708\n",
       "2016-12-31           2698  155.335804\n",
       "2017-12-31           1611  134.756052\n",
       "2018-12-31           1411  166.265060\n",
       "2019-12-31           1963  169.946001\n",
       "2020-12-31           1171  124.371477\n",
       "2021-12-31            123  101.593496"
      ]
     },
     "execution_count": 190,
     "metadata": {},
     "output_type": "execute_result"
    }
   ],
   "source": [
    "NYork_over_time = (\n",
    "    filtered_df\n",
    "    .set_index(\"host_since\")\n",
    "    .resample(\"YE\")\n",
    "    .agg({\n",
    "        \"neighbourhood\": \"count\",\n",
    "        \"price\": \"mean\"\n",
    "         })\n",
    ")\n",
    "\n",
    "NYork_over_time"
   ]
  },
  {
   "cell_type": "code",
   "execution_count": null,
   "id": "a711cc88-4733-482b-a1c0-5f04bf4ecbc5",
   "metadata": {},
   "outputs": [],
   "source": []
  },
  {
   "cell_type": "code",
   "execution_count": 191,
   "id": "e3526689-b33d-4145-ad8a-b93baa621997",
   "metadata": {},
   "outputs": [],
   "source": [
    "# Visualization"
   ]
  },
  {
   "cell_type": "code",
   "execution_count": 192,
   "id": "f05936bf-cd4d-4254-91ce-583a88af6b2f",
   "metadata": {},
   "outputs": [],
   "source": [
    "# Bar Plot for Avg price by neighbourhood in New York"
   ]
  },
  {
   "cell_type": "code",
   "execution_count": null,
   "id": "6744afdf-7526-45ce-915e-ad805bff1aad",
   "metadata": {},
   "outputs": [],
   "source": []
  },
  {
   "cell_type": "code",
   "execution_count": 195,
   "id": "2b9b168f-d926-4980-9f02-4a589b5819ae",
   "metadata": {},
   "outputs": [
    {
     "data": {
      "text/plain": [
       "<Figure size 2400x2400 with 0 Axes>"
      ]
     },
     "metadata": {},
     "output_type": "display_data"
    },
    {
     "data": {
      "image/png": "[encoded data removed]",
      "text/plain": [
       "<Figure size 640x480 with 1 Axes>"
      ]
     },
     "metadata": {},
     "output_type": "display_data"
    }
   ],
   "source": [
    "sns.set_style(\"white\")\n",
    "plt.figure(figsize = (24,24)) \n",
    "(NYork_neighbourhood\n",
    ".plot\n",
    ".barh(\n",
    "    title = \"Average Listing Price by New York Neighbourhood\",\n",
    "    xlabel =  \"Price Per Night (USD)\",\n",
    "    ylabel =  \"Neighbourhood\",\n",
    "    legend = None\n",
    ")\n",
    ")\n",
    "\n",
    "sns.despine()"
   ]
  },
  {
   "cell_type": "code",
   "execution_count": 196,
   "id": "fa71cb01-0b09-494c-86df-b7467b556aa9",
   "metadata": {},
   "outputs": [],
   "source": [
    "# Bar plot"
   ]
  },
  {
   "cell_type": "code",
   "execution_count": 197,
   "id": "ac598c67-a5a2-4b5e-a570-2195558615ea",
   "metadata": {},
   "outputs": [
    {
     "data": {
      "image/png": "[encoded data removed]",
      "text/plain": [
       "<Figure size 640x480 with 1 Axes>"
      ]
     },
     "metadata": {},
     "output_type": "display_data"
    }
   ],
   "source": [
    "sns.set_style(\"white\")\n",
    "(NYork_accomodates\n",
    ".plot\n",
    ".barh(\n",
    "    title = \"Average Listing Price by New York Accomodation Number\",\n",
    "    xlabel =  \"Price Per Night (USD)\",\n",
    "    ylabel =  \"Accomodation Capacity\",\n",
    "    legend = None\n",
    ")\n",
    ")\n",
    "\n",
    "sns.despine()\n"
   ]
  },
  {
   "cell_type": "code",
   "execution_count": 198,
   "id": "e194ee99-cb97-4432-8a5e-2859227612e7",
   "metadata": {},
   "outputs": [
    {
     "data": {
      "image/png": "[encoded data removed]",
      "text/plain": [
       "<Figure size 640x480 with 1 Axes>"
      ]
     },
     "metadata": {},
     "output_type": "display_data"
    }
   ],
   "source": [
    "NYork_over_time[\"neighbourhood\"].plot(\n",
    "    ylabel = \"New Hosts\",\n",
    "    title = \"New Airbnb Hosts in New York Over Time\"\n",
    ")\n",
    "\n",
    "sns.despine()"
   ]
  },
  {
   "cell_type": "code",
   "execution_count": 204,
   "id": "1bd94482-8304-490b-8f6f-4ec4e15f6d6d",
   "metadata": {},
   "outputs": [
    {
     "data": {
      "image/png": "[encoded data removed]",
      "text/plain": [
       "<Figure size 640x480 with 1 Axes>"
      ]
     },
     "metadata": {},
     "output_type": "display_data"
    }
   ],
   "source": [
    "NYork_over_time[\"price\"].plot(\n",
    "    ylabel = \"Average Price (USD)\",\n",
    "    title = \"Average Airbnb Price in New York Over Time\"\n",
    ")\n",
    "sns.despine()\n",
    "plt.show()"
   ]
  },
  {
   "cell_type": "code",
   "execution_count": 211,
   "id": "8994c10b-461c-4760-99bd-e5bf8ff82f7e",
   "metadata": {},
   "outputs": [
    {
     "data": {
      "text/plain": [
       "Text(0.5, 1.0, 'Sharp Decline of Hosts since 2016 resulted in consistent prices till Covid')"
      ]
     },
     "execution_count": 211,
     "metadata": {},
     "output_type": "execute_result"
    },
    {
     "data": {
      "image/png": "[encoded data removed]",
      "text/plain": [
       "<Figure size 640x480 with 2 Axes>"
      ]
     },
     "metadata": {},
     "output_type": "display_data"
    }
   ],
   "source": [
    "fig, ax = plt.subplots()\n",
    "\n",
    "ax.plot(\n",
    "    NYork_over_time.index,\n",
    "    NYork_over_time[\"neighbourhood\"],\n",
    "    label = \"New Hosts\",\n",
    "    c = \"red\"\n",
    ")\n",
    "\n",
    "ax.set_ylabel(\"New Hosts\")\n",
    "\n",
    "ax2 = ax.twinx()\n",
    "ax2.plot(\n",
    "    NYork_over_time.index,\n",
    "    NYork_over_time[\"price\"],\n",
    "    label = \"Average Price\"\n",
    ")\n",
    "ax.set_ylim(0)\n",
    "ax2.set_ylim(0)\n",
    "ax2.set_ylabel(\"Average Price\")\n",
    "\n",
    "ax.set_title(\"Sharp Decline of Hosts since 2016 resulted in consistent prices till Covid\")"
   ]
  },
  {
   "cell_type": "code",
   "execution_count": null,
   "id": "1ec1ef9d-ca0b-435c-9e2d-916255fa6cfb",
   "metadata": {},
   "outputs": [],
   "source": []
  }
 ],
 "metadata": {
  "kernelspec": {
   "display_name": "Python 3 (ipykernel)",
   "language": "python",
   "name": "python3"
  },
  "language_info": {
   "codemirror_mode": {
    "name": "ipython",
    "version": 3
   },
   "file_extension": ".py",
   "mimetype": "text/x-python",
   "name": "python",
   "nbconvert_exporter": "python",
   "pygments_lexer": "ipython3",
   "version": "3.12.4"
  }
 },
 "nbformat": 4,
 "nbformat_minor": 5
}
